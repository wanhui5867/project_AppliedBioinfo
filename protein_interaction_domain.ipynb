{
 "cells": [
  {
   "cell_type": "code",
   "execution_count": 31,
   "metadata": {},
   "outputs": [],
   "source": [
    "import pandas as pd\n",
    "import numpy as np\n",
    "import seaborn as sns\n",
    "import matplotlib as plt\n",
    "import networkx as nx"
   ]
  },
  {
   "cell_type": "markdown",
   "metadata": {},
   "source": [
    "# Loading the data"
   ]
  },
  {
   "cell_type": "code",
   "execution_count": 26,
   "metadata": {},
   "outputs": [],
   "source": [
    "pro_network = pd.read_table('9606.protein.links.v11.0.txt', sep=' ')\n",
    "pro_network.head()"
   ]
  },
  {
   "cell_type": "code",
   "execution_count": 27,
   "metadata": {},
   "outputs": [
    {
     "data": {
      "text/html": [
       "<div>\n",
       "<style scoped>\n",
       "    .dataframe tbody tr th:only-of-type {\n",
       "        vertical-align: middle;\n",
       "    }\n",
       "\n",
       "    .dataframe tbody tr th {\n",
       "        vertical-align: top;\n",
       "    }\n",
       "\n",
       "    .dataframe thead th {\n",
       "        text-align: right;\n",
       "    }\n",
       "</style>\n",
       "<table border=\"1\" class=\"dataframe\">\n",
       "  <thead>\n",
       "    <tr style=\"text-align: right;\">\n",
       "      <th></th>\n",
       "      <th>Pfam ID</th>\n",
       "      <th>Protein stable ID</th>\n",
       "    </tr>\n",
       "  </thead>\n",
       "  <tbody>\n",
       "    <tr>\n",
       "      <th>0</th>\n",
       "      <td>PF00146</td>\n",
       "      <td>ENSP00000354687</td>\n",
       "    </tr>\n",
       "    <tr>\n",
       "      <th>1</th>\n",
       "      <td>PF00361</td>\n",
       "      <td>ENSP00000355046</td>\n",
       "    </tr>\n",
       "    <tr>\n",
       "      <th>2</th>\n",
       "      <td>PF06444</td>\n",
       "      <td>ENSP00000355046</td>\n",
       "    </tr>\n",
       "    <tr>\n",
       "      <th>3</th>\n",
       "      <td>PF00115</td>\n",
       "      <td>ENSP00000354499</td>\n",
       "    </tr>\n",
       "    <tr>\n",
       "      <th>4</th>\n",
       "      <td>PF00116</td>\n",
       "      <td>ENSP00000354876</td>\n",
       "    </tr>\n",
       "  </tbody>\n",
       "</table>\n",
       "</div>"
      ],
      "text/plain": [
       "   Pfam ID Protein stable ID\n",
       "0  PF00146   ENSP00000354687\n",
       "1  PF00361   ENSP00000355046\n",
       "2  PF06444   ENSP00000355046\n",
       "3  PF00115   ENSP00000354499\n",
       "4  PF00116   ENSP00000354876"
      ]
     },
     "execution_count": 27,
     "metadata": {},
     "output_type": "execute_result"
    }
   ],
   "source": [
    "pro_domain = pd.read_table('proteins_w_domains.txt', sep = '\\t')\n",
    "pro_domain.head()"
   ]
  },
  {
   "cell_type": "markdown",
   "metadata": {},
   "source": [
    "# Filter Network with score >= 500 "
   ]
  },
  {
   "cell_type": "code",
   "execution_count": null,
   "metadata": {},
   "outputs": [],
   "source": [
    "pro_network_m500 = pro_network[pro_network.combined_score >= 500]\n",
    "pro_network_m500.head()"
   ]
  },
  {
   "cell_type": "markdown",
   "metadata": {},
   "source": [
    "# Network degree"
   ]
  },
  {
   "cell_type": "code",
   "execution_count": 57,
   "metadata": {},
   "outputs": [
    {
     "data": {
      "text/html": [
       "<div>\n",
       "<style scoped>\n",
       "    .dataframe tbody tr th:only-of-type {\n",
       "        vertical-align: middle;\n",
       "    }\n",
       "\n",
       "    .dataframe tbody tr th {\n",
       "        vertical-align: top;\n",
       "    }\n",
       "\n",
       "    .dataframe thead th {\n",
       "        text-align: right;\n",
       "    }\n",
       "</style>\n",
       "<table border=\"1\" class=\"dataframe\">\n",
       "  <thead>\n",
       "    <tr style=\"text-align: right;\">\n",
       "      <th></th>\n",
       "      <th>protein</th>\n",
       "      <th>degree</th>\n",
       "      <th>Degree</th>\n",
       "      <th>Protein stable ID</th>\n",
       "    </tr>\n",
       "  </thead>\n",
       "  <tbody>\n",
       "    <tr>\n",
       "      <th>0</th>\n",
       "      <td>9606.ENSP00000000233</td>\n",
       "      <td>154</td>\n",
       "      <td>High</td>\n",
       "      <td>ENSP00000000233</td>\n",
       "    </tr>\n",
       "    <tr>\n",
       "      <th>1</th>\n",
       "      <td>9606.ENSP00000418915</td>\n",
       "      <td>343</td>\n",
       "      <td>High</td>\n",
       "      <td>ENSP00000418915</td>\n",
       "    </tr>\n",
       "    <tr>\n",
       "      <th>2</th>\n",
       "      <td>9606.ENSP00000432568</td>\n",
       "      <td>186</td>\n",
       "      <td>High</td>\n",
       "      <td>ENSP00000432568</td>\n",
       "    </tr>\n",
       "    <tr>\n",
       "      <th>3</th>\n",
       "      <td>9606.ENSP00000427900</td>\n",
       "      <td>95</td>\n",
       "      <td>Low</td>\n",
       "      <td>ENSP00000427900</td>\n",
       "    </tr>\n",
       "    <tr>\n",
       "      <th>4</th>\n",
       "      <td>9606.ENSP00000350199</td>\n",
       "      <td>139</td>\n",
       "      <td>High</td>\n",
       "      <td>ENSP00000350199</td>\n",
       "    </tr>\n",
       "  </tbody>\n",
       "</table>\n",
       "</div>"
      ],
      "text/plain": [
       "                protein  degree Degree Protein stable ID\n",
       "0  9606.ENSP00000000233     154   High   ENSP00000000233\n",
       "1  9606.ENSP00000418915     343   High   ENSP00000418915\n",
       "2  9606.ENSP00000432568     186   High   ENSP00000432568\n",
       "3  9606.ENSP00000427900      95    Low   ENSP00000427900\n",
       "4  9606.ENSP00000350199     139   High   ENSP00000350199"
      ]
     },
     "execution_count": 57,
     "metadata": {},
     "output_type": "execute_result"
    }
   ],
   "source": [
    "network = nx.from_pandas_edgelist(pro_network_m500, source = 'protein1', target = 'protein2')\n",
    "pro_degree = pd.DataFrame(network.degree, columns= ['protein', 'degree'])\n",
    "pro_degree['Degree'] = np.where(pro_degree['degree'] > 100, 'High', 'Low')\n",
    "pro_degree['Protein stable ID'] = [ p.replace('9606.','') for p in pro_degree['protein']]\n",
    "pro_degree.head()"
   ]
  },
  {
   "cell_type": "markdown",
   "metadata": {},
   "source": [
    "# Domain Difference between group"
   ]
  },
  {
   "cell_type": "code",
   "execution_count": 58,
   "metadata": {},
   "outputs": [
    {
     "data": {
      "text/html": [
       "<div>\n",
       "<style scoped>\n",
       "    .dataframe tbody tr th:only-of-type {\n",
       "        vertical-align: middle;\n",
       "    }\n",
       "\n",
       "    .dataframe tbody tr th {\n",
       "        vertical-align: top;\n",
       "    }\n",
       "\n",
       "    .dataframe thead th {\n",
       "        text-align: right;\n",
       "    }\n",
       "</style>\n",
       "<table border=\"1\" class=\"dataframe\">\n",
       "  <thead>\n",
       "    <tr style=\"text-align: right;\">\n",
       "      <th></th>\n",
       "      <th>Protein stable ID</th>\n",
       "      <th>Domain count</th>\n",
       "      <th>protein</th>\n",
       "      <th>degree</th>\n",
       "      <th>Degree</th>\n",
       "    </tr>\n",
       "  </thead>\n",
       "  <tbody>\n",
       "    <tr>\n",
       "      <th>17704</th>\n",
       "      <td>ENSP00000467141</td>\n",
       "      <td>314</td>\n",
       "      <td>9606.ENSP00000467141</td>\n",
       "      <td>174</td>\n",
       "      <td>High</td>\n",
       "    </tr>\n",
       "    <tr>\n",
       "      <th>18597</th>\n",
       "      <td>ENSP00000484342</td>\n",
       "      <td>100</td>\n",
       "      <td>9606.ENSP00000484342</td>\n",
       "      <td>80</td>\n",
       "      <td>Low</td>\n",
       "    </tr>\n",
       "    <tr>\n",
       "      <th>17415</th>\n",
       "      <td>ENSP00000455507</td>\n",
       "      <td>67</td>\n",
       "      <td>9606.ENSP00000455507</td>\n",
       "      <td>99</td>\n",
       "      <td>Low</td>\n",
       "    </tr>\n",
       "    <tr>\n",
       "      <th>18174</th>\n",
       "      <td>ENSP00000479291</td>\n",
       "      <td>64</td>\n",
       "      <td>9606.ENSP00000479291</td>\n",
       "      <td>1</td>\n",
       "      <td>Low</td>\n",
       "    </tr>\n",
       "    <tr>\n",
       "      <th>3384</th>\n",
       "      <td>ENSP00000271588</td>\n",
       "      <td>57</td>\n",
       "      <td>9606.ENSP00000271588</td>\n",
       "      <td>12</td>\n",
       "      <td>Low</td>\n",
       "    </tr>\n",
       "  </tbody>\n",
       "</table>\n",
       "</div>"
      ],
      "text/plain": [
       "      Protein stable ID  Domain count               protein  degree Degree\n",
       "17704   ENSP00000467141           314  9606.ENSP00000467141     174   High\n",
       "18597   ENSP00000484342           100  9606.ENSP00000484342      80    Low\n",
       "17415   ENSP00000455507            67  9606.ENSP00000455507      99    Low\n",
       "18174   ENSP00000479291            64  9606.ENSP00000479291       1    Low\n",
       "3384    ENSP00000271588            57  9606.ENSP00000271588      12    Low"
      ]
     },
     "execution_count": 58,
     "metadata": {},
     "output_type": "execute_result"
    }
   ],
   "source": [
    "pro_domain_count = pro_domain.groupby('Protein stable ID')['Pfam ID'].agg('count').reset_index(name = \"Domain count\")\n",
    "pro_domain_degree = pro_domain_count.merge(pro_degree, on = 'Protein stable ID', how = 'inner')\n",
    "pro_domain_degree.sort_values(by=['Domain count'], ascending=False).head()"
   ]
  },
  {
   "cell_type": "code",
   "execution_count": 63,
   "metadata": {},
   "outputs": [
    {
     "data": {
      "image/png": "[encoded data removed]",
      "text/plain": [
       "<Figure size 432x288 with 1 Axes>"
      ]
     },
     "metadata": {
      "needs_background": "light"
     },
     "output_type": "display_data"
    }
   ],
   "source": [
    "sns.set_context(\"poster\")\n",
    "sns_plot = sns.boxplot(y=\"Domain count\", x= \"Degree\", data = pro_domain_degree, showfliers = False)\n",
    "#sns_plot.set_ylim([0,100])\n",
    "sns_plot.get_figure().savefig(\"protein_domains_vs_string_degree.png\")"
   ]
  }
 ],
 "metadata": {
  "kernelspec": {
   "display_name": "Python 3",
   "language": "python",
   "name": "python3"
  },
  "language_info": {
   "codemirror_mode": {
    "name": "ipython",
    "version": 3
   },
   "file_extension": ".py",
   "mimetype": "text/x-python",
   "name": "python",
   "nbconvert_exporter": "python",
   "pygments_lexer": "ipython3",
   "version": "3.8.3"
  }
 },
 "nbformat": 4,
 "nbformat_minor": 4
}
